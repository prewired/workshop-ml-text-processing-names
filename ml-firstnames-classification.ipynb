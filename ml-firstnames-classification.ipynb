{
 "cells": [
  {
   "cell_type": "markdown",
   "metadata": {},
   "source": [
    "# Machine Learning: Classifying First Names by Gender\n",
    "\n",
    "## Goal\n",
    "\n",
    "We will try to predict whether a first name is a typical boy's or girl's name, using machine learning.\n",
    "\n",
    "This workshop is a bit related to the demo James gave last week. In his demo he made the computer recognize whether he was holding an apple, a banana, or some other fruit. All done with just the click of a couple of buttons!\n",
    "\n",
    "But a computer can't really see or understand what it sees like we humans do. In the end the thing a computer only really does is compute. It needs numbers! So how does the image of James holding a banana become just numbers a computer can \"understand\"?\n",
    "\n",
    "Well, that's [quite complicated](https://opencv-python-tutroals.readthedocs.io/en/latest/py_tutorials/py_feature2d/py_table_of_contents_feature2d/py_table_of_contents_feature2d.html) involving some complex math. So today we start with text rather than images, which is a bit easier and good way to introduce _feature extraction_. Start simple, right?\n",
    "\n",
    "So our goals for today are:\n",
    "1. Make the computer \"understand\" names by expressing names as numbers\n",
    "2. Let the computer figure out what's a typical boys or girls name.\n",
    "3. Ask the computer whether a name it has never seen is a tyical boys or girls name.\n",
    "\n",
    "## Before we begin\n",
    "Let's make this a bit more interactive. You can follow along and play with the code online, or with your own files.\n",
    "\n",
    "### Play Online\n",
    "You can follow along and play with the code here:  \n",
    "https://mybinder.org/v2/gh/jelmervdl/prewired/master?filepath=machine-learning.ipynb\n",
    "\n",
    "### Play with your own files\n",
    "\n",
    "We need some data to play with:\n",
    "1. https://github.com/teropa/nlp/raw/master/resources/corpora/names/female.txt\n",
    "2. https://github.com/teropa/nlp/raw/master/resources/corpora/names/male.txt\n",
    "\n",
    "Download these files and put them in a place you can easily access from Python. You will also need matplotlib and sklearn if you want to run the code here. You can run this on the command line:\n",
    "```\n",
    "pip3 install scikit-learn matplotlib\n",
    "```"
   ]
  },
  {
   "cell_type": "markdown",
   "metadata": {},
   "source": [
    "# Data exploration\n",
    "Let's see what we've got here. Machine learning, or any data science, always begins with understanding what you are working with."
   ]
  },
  {
   "cell_type": "markdown",
   "metadata": {},
   "source": [
    "Let's read the names into Python. This code will open the file, read each of the names from the file, and remove any spaces or line breaks from the name so we just have the name, nothing more."
   ]
  },
  {
   "cell_type": "code",
   "execution_count": 190,
   "metadata": {},
   "outputs": [],
   "source": [
    "with open(\"male.txt\") as file:\n",
    "    male_names = [name.strip() for name in file]\n",
    "\n",
    "with open(\"female.txt\") as file:\n",
    "    female_names = [name.strip() for name in file]"
   ]
  },
  {
   "cell_type": "markdown",
   "metadata": {},
   "source": [
    "_How many? Many!_ Let's check how much data we have."
   ]
  },
  {
   "cell_type": "code",
   "execution_count": 191,
   "metadata": {},
   "outputs": [
    {
     "data": {
      "text/plain": [
       "(2943, 5001)"
      ]
     },
     "execution_count": 191,
     "metadata": {},
     "output_type": "execute_result"
    }
   ],
   "source": [
    "len(male_names), len(female_names)"
   ]
  },
  {
   "cell_type": "markdown",
   "metadata": {},
   "source": [
    "Apparently many more female names than male names. Interesting…"
   ]
  },
  {
   "cell_type": "markdown",
   "metadata": {},
   "source": [
    "Let's start by printing some of those names, for example the first ten."
   ]
  },
  {
   "cell_type": "code",
   "execution_count": 192,
   "metadata": {},
   "outputs": [
    {
     "data": {
      "text/plain": [
       "(['Aamir',\n",
       "  'Aaron',\n",
       "  'Abbey',\n",
       "  'Abbie',\n",
       "  'Abbot',\n",
       "  'Abbott',\n",
       "  'Abby',\n",
       "  'Abdel',\n",
       "  'Abdul',\n",
       "  'Abdulkarim'],\n",
       " ['Abagael',\n",
       "  'Abagail',\n",
       "  'Abbe',\n",
       "  'Abbey',\n",
       "  'Abbi',\n",
       "  'Abbie',\n",
       "  'Abby',\n",
       "  'Abigael',\n",
       "  'Abigail',\n",
       "  'Abigale'])"
      ]
     },
     "execution_count": 192,
     "metadata": {},
     "output_type": "execute_result"
    }
   ],
   "source": [
    "male_names[:10], female_names[:10]"
   ]
  },
  {
   "cell_type": "markdown",
   "metadata": {},
   "source": [
    "The names are sorted alphabetically. To make things a bit more interesting, shuffle them around *but don't mix them*."
   ]
  },
  {
   "cell_type": "code",
   "execution_count": 193,
   "metadata": {},
   "outputs": [],
   "source": [
    "import random\n",
    "random.shuffle(male_names)\n",
    "random.shuffle(female_names)"
   ]
  },
  {
   "cell_type": "code",
   "execution_count": 194,
   "metadata": {},
   "outputs": [
    {
     "data": {
      "text/plain": [
       "(['Ravi',\n",
       "  'Chrisy',\n",
       "  'Jackie',\n",
       "  'Harrison',\n",
       "  'Talbot',\n",
       "  'Kermit',\n",
       "  'Munmro',\n",
       "  'Avery',\n",
       "  'Merry',\n",
       "  'Reinhold'],\n",
       " ['Carlita',\n",
       "  'Erna',\n",
       "  'Sherill',\n",
       "  'Oprah',\n",
       "  'Katee',\n",
       "  'Muire',\n",
       "  'Minta',\n",
       "  'Jewelle',\n",
       "  'Cherish',\n",
       "  'Annice'])"
      ]
     },
     "execution_count": 194,
     "metadata": {},
     "output_type": "execute_result"
    }
   ],
   "source": [
    "male_names[:10], female_names[:10]"
   ]
  },
  {
   "cell_type": "markdown",
   "metadata": {},
   "source": [
    "How many names are given to both boys and girls?"
   ]
  },
  {
   "cell_type": "code",
   "execution_count": 195,
   "metadata": {},
   "outputs": [
    {
     "data": {
      "text/plain": [
       "365"
      ]
     },
     "execution_count": 195,
     "metadata": {},
     "output_type": "execute_result"
    }
   ],
   "source": [
    "both = [name for name in male_names if name in female_names]\n",
    "len(both)"
   ]
  },
  {
   "cell_type": "markdown",
   "metadata": {},
   "source": [
    "Okay, that should give us an idea of what we are working."
   ]
  },
  {
   "cell_type": "markdown",
   "metadata": {},
   "source": [
    "# Feature extraction\n",
    "Back to our goal: make the computer understand names, or really, how to turn any name into a number.\n",
    "\n",
    "In Machine Learning this step is called \"feature extraction\": you extract numbers (the \"feature\") from the thing you really have. In James his fruit-recognition example, that was an image. With our names, it is text.\n",
    "\n",
    "_What you really do is describe the name to the computer in a language it understands: numbers!_\n",
    "\n",
    "Important to remember about feature extraction for machine learning is that we need to be consistent: *If you give it the same name twice, you expect the same numbers each time.*\n",
    "\n",
    "We can think of many ways of turning a name into a number:\n",
    "- The number of letters is has\n",
    "- How often the letter e occurs\n",
    "- The number of vowels it has\n",
    "- Whether it ends with a vowel (0 or 1 is also a number!)\n",
    "- Whether it begins with a vowel\n",
    "- How many letters are repeated\n",
    "\n",
    "Let's just start with the first one, see what we get:"
   ]
  },
  {
   "cell_type": "code",
   "execution_count": 196,
   "metadata": {},
   "outputs": [],
   "source": [
    "def extract_length(name):\n",
    "    return len(name)"
   ]
  },
  {
   "cell_type": "markdown",
   "metadata": {},
   "source": [
    "Okay, now to test this. The point of feature extraction is translating the names into a form of information that will help the computer to tell the difference between boys and girls names. We can check whether transforming the names into numbers using the length is helpful by looking at the numbers in a graph. So let's make a histogram: count all the lengths we see, and draw a bar for how often we see them. Green for girls, brown for boys. Easy to remember, it starts with the same letter.\n",
    "\n",
    "The test function is very multi-purpose as we can re-use when we want to test other feature extractors."
   ]
  },
  {
   "cell_type": "code",
   "execution_count": 197,
   "metadata": {},
   "outputs": [
    {
     "data": {
      "image/png": "[encoded data removed]",
      "text/plain": [
       "<Figure size 432x288 with 1 Axes>"
      ]
     },
     "metadata": {
      "needs_background": "light"
     },
     "output_type": "display_data"
    }
   ],
   "source": [
    "%matplotlib inline\n",
    "import matplotlib.pyplot as plt\n",
    "\n",
    "def test(feature_extractor):\n",
    "    plt.hist([\n",
    "        [feature_extractor(name) for name in female_names],\n",
    "        [feature_extractor(name) for name in male_names]\n",
    "    ], label=['girls', 'boys'], color=['green', 'brown'])\n",
    "\n",
    "test(extract_length)"
   ]
  },
  {
   "cell_type": "markdown",
   "metadata": {},
   "source": [
    "We see that there are many more girls names, if you add all their bars together you get a far longer bar than if you add all the boys bars. Let's fix that!\n",
    "\n",
    "Instead of printing the number of times we count a number, let's print the proportion of names with that number. So 3 out of 6 and 4 out of 8 get bars of the same size. Luckily no extra math is necessary for that, matplotlib has a `density=True` option that does this for us. Let's see what the graph looks like if we add that."
   ]
  },
  {
   "cell_type": "code",
   "execution_count": 198,
   "metadata": {},
   "outputs": [
    {
     "data": {
      "image/png": "[encoded data removed]",
      "text/plain": [
       "<Figure size 432x288 with 1 Axes>"
      ]
     },
     "metadata": {
      "needs_background": "light"
     },
     "output_type": "display_data"
    }
   ],
   "source": [
    "def test(feature_extractor):\n",
    "    plt.hist([\n",
    "        [feature_extractor(name) for name in female_names],\n",
    "        [feature_extractor(name) for name in male_names]\n",
    "    ], label=['girls', 'boys'], density=True, color=['green', 'brown'])\n",
    "\n",
    "test(extract_length)"
   ]
  },
  {
   "cell_type": "markdown",
   "metadata": {},
   "source": [
    "Well that doesn't work great, they are about the same. Both groups of names are on average 6 letters long."
   ]
  },
  {
   "cell_type": "markdown",
   "metadata": {},
   "source": [
    "Let's try our second attempt: how often does the letter 'e' occur?"
   ]
  },
  {
   "cell_type": "code",
   "execution_count": 199,
   "metadata": {},
   "outputs": [
    {
     "data": {
      "image/png": "[encoded data removed]",
      "text/plain": [
       "<Figure size 432x288 with 1 Axes>"
      ]
     },
     "metadata": {
      "needs_background": "light"
     },
     "output_type": "display_data"
    }
   ],
   "source": [
    "def extract_e(name):\n",
    "    return name.count('e')\n",
    "\n",
    "test(extract_e)"
   ]
  },
  {
   "cell_type": "markdown",
   "metadata": {},
   "source": [
    "Again pretty similar. How about the number of vowels?"
   ]
  },
  {
   "cell_type": "code",
   "execution_count": 200,
   "metadata": {},
   "outputs": [
    {
     "data": {
      "image/png": "[encoded data removed]",
      "text/plain": [
       "<Figure size 432x288 with 1 Axes>"
      ]
     },
     "metadata": {
      "needs_background": "light"
     },
     "output_type": "display_data"
    }
   ],
   "source": [
    "def extract_number_of_vowels(name):\n",
    "    return sum(name.count(vowel) for vowel in 'aeiou')\n",
    "\n",
    "test(extract_number_of_vowels)"
   ]
  },
  {
   "cell_type": "markdown",
   "metadata": {},
   "source": [
    "Getting there! At least there is a difference. Let's try whether a name ends with a vowel?"
   ]
  },
  {
   "cell_type": "code",
   "execution_count": 201,
   "metadata": {},
   "outputs": [
    {
     "data": {
      "image/png": "[encoded data removed]",
      "text/plain": [
       "<Figure size 432x288 with 1 Axes>"
      ]
     },
     "metadata": {
      "needs_background": "light"
     },
     "output_type": "display_data"
    }
   ],
   "source": [
    "def extract_ends_with_vowel(name):\n",
    "    return 1 if name[-1] in 'aeoiu' else 0\n",
    "\n",
    "test(extract_ends_with_vowel)"
   ]
  },
  {
   "cell_type": "markdown",
   "metadata": {},
   "source": [
    "Oh yes, that looks promising! What we have here is a way to turn a name into a number, and not just a number, but a number the computer can use to understand whether this is name might be a typical boys or girls name."
   ]
  },
  {
   "cell_type": "markdown",
   "metadata": {},
   "source": [
    "Let's try to make a function that uses our numerical version of a name to decide whether it's a girls or boys name.\n",
    "\n",
    "If we look at the histogram above, we can say that if the number is less than 0.5, it's most likely a boys name. Or in Python:"
   ]
  },
  {
   "cell_type": "code",
   "execution_count": 202,
   "metadata": {},
   "outputs": [
    {
     "data": {
      "text/plain": [
       "'boy'"
      ]
     },
     "execution_count": 202,
     "metadata": {},
     "output_type": "execute_result"
    }
   ],
   "source": [
    "def guess_gender(name):\n",
    "    feature = extract_ends_with_vowel(name)\n",
    "    if feature < 0.5:\n",
    "        return 'boy'\n",
    "    else:\n",
    "        return 'girl'\n",
    "    \n",
    "guess_gender(\"Jelmer\")"
   ]
  },
  {
   "cell_type": "markdown",
   "metadata": {},
   "source": [
    "Great. For my name, it works! We have lists of male and female names, how well does it work for those? Let's try it on 1000 names."
   ]
  },
  {
   "cell_type": "code",
   "execution_count": 203,
   "metadata": {},
   "outputs": [
    {
     "name": "stdout",
     "output_type": "stream",
     "text": [
      "752 out of 1000 was correct\n",
      "715 out of 1000 was correct\n"
     ]
    }
   ],
   "source": [
    "correct = sum(guess_gender(name) == 'boy' for name in male_names[:1000])\n",
    "print(f'{correct} out of 1000 was correct')\n",
    "\n",
    "correct = sum(guess_gender(name) == 'girl' for name in female_names[:1000])\n",
    "print(f'{correct} out of 1000 was correct')"
   ]
  },
  {
   "cell_type": "markdown",
   "metadata": {},
   "source": [
    "Not bad for a first attempt, better than 50/50. But definitely not great.\n",
    "\n",
    "We might need to combine this test with other tests. But how? We can make `guess_gender(name)` more complex, add more if-statements, but what are the numbers that we need to compare? What combination of numbers decides whether a name is probably a boys or girls name?\n",
    "\n",
    "# Making decisions\n",
    "Here is another way to look at this problem. Say, you look back at that last histogram where boy names were mostly on the left and girl names mostly on the right. What we did for our `guess_gender(name)` function was drawing a line in the middle of that plot and decide that anything left of the line was boys, right girls.\n",
    "\n",
    "That was in one dimension. One number. We can do that for two dimensions, two numbers as well! Let's draw where the names fall on a plot if we use two numbers:"
   ]
  },
  {
   "cell_type": "code",
   "execution_count": 204,
   "metadata": {},
   "outputs": [
    {
     "data": {
      "image/png": "[encoded data removed]",
      "text/plain": [
       "<Figure size 432x288 with 1 Axes>"
      ]
     },
     "metadata": {
      "needs_background": "light"
     },
     "output_type": "display_data"
    }
   ],
   "source": [
    "def test2(feature_extractor_1, feature_extractor_2):\n",
    "    # Because the image will get crowded if I draw all names, I only\n",
    "    # pick 100 names for each group at random.\n",
    "    female_names_sample = random.sample(female_names, 50)\n",
    "    male_names_sample = random.sample(male_names, 50)\n",
    "    \n",
    "    fig, ax = plt.subplots()\n",
    "    ax.scatter(\n",
    "        jitter([feature_extractor_1(name) for name in female_names_sample]),\n",
    "        jitter([feature_extractor_2(name) for name in female_names_sample]),\n",
    "        label='girls',\n",
    "        color='green',\n",
    "        marker='+'\n",
    "    )\n",
    "    ax.scatter(\n",
    "        jitter([feature_extractor_1(name) for name in male_names_sample]),\n",
    "        jitter([feature_extractor_2(name) for name in male_names_sample]),\n",
    "        label='boys',\n",
    "        color='brown',\n",
    "        marker='+'\n",
    "    )\n",
    "    plt.show()\n",
    "\n",
    "    \n",
    "def jitter(numbers):\n",
    "    # This function takes the numbers and nudges them around a bit\n",
    "    # so they are not exactly in the same place. Otherwise we would\n",
    "    # draw all plusses at exactly the same position and you wouldn't\n",
    "    # see how many there were.\n",
    "    stdev = .1 * (max(numbers) - min(numbers))\n",
    "    return [number + random.random() * stdev for number in numbers]\n",
    "\n",
    "\n",
    "test2(extract_ends_with_vowel, extract_number_of_vowels)"
   ]
  },
  {
   "cell_type": "markdown",
   "metadata": {},
   "source": [
    "Okay, I hope you can sort-of draw a line through that plot where you can say that most plusses on one side are green, and on the other side are brown. If you can, you have just made the prototype for a better version of `guess_gender(name)`!\n",
    "\n",
    "# Machine learning\n",
    "*But I thought this was about machine learning!* I hear you say. So far all we have done is express names into numbers and then try to guess the gender based on that number ourselves. We can draw that line, but a computer can also do that for us, right?\n",
    "\n",
    "Well, yes, yes it can! Because the thing we've been doing here is exactly what a *support vector machine* (or SVM) does.\n",
    "\n",
    "## Train & test sets\n",
    "But before we let the computer decide our line, we need to think about how we are going to test whether the computer did any good.\n",
    "\n",
    "We have our lists with names, we can give those to the SVM to learn where to draw the line. We can also use those lists to test whether it can correctly predict the gender. But we don't want to make it too easy for the SVM, we don't want it to just predict names it has already seen. \n",
    "\n",
    "That's why we will now first split our two lists in train and test sets."
   ]
  },
  {
   "cell_type": "code",
   "execution_count": 205,
   "metadata": {},
   "outputs": [],
   "source": [
    "train_male_names = male_names[0:-500] # Take all but the last 500 names\n",
    "test_male_names = male_names[-500:] # Take only the last 500 names\n",
    "\n",
    "train_female_names = female_names[0:-500]\n",
    "test_female_names = female_names[-500:]"
   ]
  },
  {
   "cell_type": "markdown",
   "metadata": {},
   "source": [
    "Next, we set up the support vector machine:\n",
    "1. We derive numbers for all names and make sure we label them correctly as boy or girl name.\n",
    "2. We \"train\" the SVM (the `clf.fit()` call) in which the SVM will try to draw the perfect line that separates the two genders\n",
    "3. We test how well that worked."
   ]
  },
  {
   "cell_type": "code",
   "execution_count": 206,
   "metadata": {},
   "outputs": [],
   "source": [
    "# Note this code is a bit more generic because we will be using it later on as well. For now, assume that 'clf' is the SVM.\n",
    "\n",
    "def test_model(clf, extract_features):\n",
    "    # clf is short for classifier, because this SVM will classify the gender\n",
    "\n",
    "    # Features will be our list with our numerical descriptions of names. Each row in the list\n",
    "    # will be a second list of numbers. For now, let's stick to the two numbers we also used\n",
    "    # in the 2d plot.\n",
    "    features = []\n",
    "\n",
    "    # For each row in features we will also have a label, telling whether that row is an\n",
    "    # example of a boys or a girls name. Because we have to use numbers, let's say a 0 is\n",
    "    # a boys name and a 1 is a girls name.\n",
    "    LABEL_MALE = 0\n",
    "    LABEL_FEMALE = 1\n",
    "    labels = []\n",
    "\n",
    "    for name in train_male_names:\n",
    "        features.append(extract_features(name))\n",
    "        labels.append(LABEL_MALE)\n",
    "    \n",
    "    for name in train_female_names:\n",
    "        features.append(extract_features(name))\n",
    "        labels.append(LABEL_FEMALE)\n",
    "    \n",
    "    # Now we have our features and labels, this will tell the SVM to fit the line.\n",
    "    clf.fit(features, labels)\n",
    "    \n",
    "    # How well did it do?\n",
    "    correct = sum(clf.predict([extract_features(name)]) == [LABEL_MALE] for name in test_male_names)\n",
    "    print(f'{correct} out of {len(test_male_names)} male names was correct')\n",
    "\n",
    "    correct = sum(clf.predict([extract_features(name)]) == [LABEL_FEMALE] for name in test_female_names)\n",
    "    print(f'{correct} out of {len(test_female_names)} female names was correct')"
   ]
  },
  {
   "cell_type": "markdown",
   "metadata": {},
   "source": [
    "And we need to make our 'feature extractor', our function that turns a name into a set of numbers. We can just reuse the extract functions we made earlier, and combine them:"
   ]
  },
  {
   "cell_type": "code",
   "execution_count": 207,
   "metadata": {},
   "outputs": [
    {
     "name": "stdout",
     "output_type": "stream",
     "text": [
      "[362] out of 500 male names was correct\n",
      "[354] out of 500 female names was correct\n"
     ]
    }
   ],
   "source": [
    "from sklearn import svm\n",
    "\n",
    "def extract_two_features(name):\n",
    "    return [\n",
    "        extract_number_of_vowels(name),\n",
    "        extract_ends_with_vowel(name)\n",
    "    ]\n",
    "\n",
    "test_model(svm.SVC(), extract_two_features)"
   ]
  },
  {
   "cell_type": "markdown",
   "metadata": {},
   "source": [
    "Okay, well, euh, it's something. Not entirely great yet. Maybe we need more numbers!\n",
    "\n",
    "Wait, can you just do that? Yes! First we were drawing a line in 1D, then 2D, and we can go to 3D, 4D, *Whatever*D!"
   ]
  },
  {
   "cell_type": "code",
   "execution_count": 208,
   "metadata": {},
   "outputs": [
    {
     "name": "stdout",
     "output_type": "stream",
     "text": [
      "[370] out of 500 male names was correct\n",
      "[351] out of 500 female names was correct\n"
     ]
    }
   ],
   "source": [
    "def extract_features(name):\n",
    "    return [\n",
    "        extract_number_of_vowels(name),\n",
    "        extract_ends_with_vowel(name),\n",
    "        extract_e(name),\n",
    "        extract_length(name),\n",
    "    ]\n",
    "\n",
    "test_model(svm.SVC(), extract_features)"
   ]
  },
  {
   "cell_type": "markdown",
   "metadata": {},
   "source": [
    "Still not really good. We need a better descriptor.\n",
    "\n",
    "How about just counting how often each letter occurs in a name?"
   ]
  },
  {
   "cell_type": "code",
   "execution_count": 209,
   "metadata": {},
   "outputs": [
    {
     "name": "stdout",
     "output_type": "stream",
     "text": [
      "[254] out of 500 male names was correct\n",
      "[447] out of 500 female names was correct\n"
     ]
    }
   ],
   "source": [
    "import string\n",
    "\n",
    "def extract_features(name):\n",
    "    descriptor = []\n",
    "    for letter in string.ascii_lowercase: # for 'a' to 'z'\n",
    "        descriptor.append(name.lower().count(letter))\n",
    "    return descriptor\n",
    "\n",
    "test_model(svm.SVC(), extract_features)"
   ]
  },
  {
   "cell_type": "markdown",
   "metadata": {},
   "source": [
    "Please go ahead and try some more variations. For example, you can:\n",
    "- add one for whether the last letter is a specific letter,\n",
    "- or whether the second-to-last letter is a specific letter.\n",
    "- Or you can combine numbers, like the number of vowels in the name divided by the length.\n",
    "\n",
    "## Be consistent\n",
    "One thing to remember though: the numbers have to be consistent. `extract_features(name)` has to return the same amount of numbers for each name. And, each specific number has to have the same meaning! So if the 5th number returned by `extract_features(\"Jelmer\")`, which is 2, tells us how often the letter _e_ occurs in _Jelmer_, the 5th number returned by `extract_features(\"Lucas\")` also has to describe the amount of _e_.\n",
    "\n",
    "Another way to think about it: Going back to the 2D plot we had earlier, we gave each name a position on it by deriving two numbers and using those as _x_ and _y_. It would be very confusing if for one name that _x_ position ment whether the last letter is a vowel, and for another name whether it had an _e_. If your feature extractor translates a name into two numbers, you can imagine it gives the name a place in a two-dimensional room. If it returned three numbers, it would be a three-dimensional room. You might be able to imagine what that looks like. Four dimensions, [maybe you can comprehend](https://en.wikipedia.org/wiki/Hypercube). The last `extract_features()` above gives you 26 numbers, so really we're playing in a 26-dimensional room now! Don't even try to imagine what that looks like. (In machine learning we call this n-dimensional room the feature space.)\n",
    "\n",
    "That reminds me of yet another trap: what is the meaning of the number itself? In the examples above we have used 0 and 1 for whether a vowel is the last letter. We also used the number to tell how often a letter occurs. Wouldn't it make sense to use a number to tell which letter occurs last? It is easy enough to use 1 for _a_, 2 for _b_, 26 for _z_ etc. But if you go back to the n-dimensional room, it would mean that 25 (_y_) and 26 (_z_) are much closer to each other than for example 1 (_a_) and 15 (_o_). That's odd, and a bit meaningless. That is why we should not do that. (If you want to know more, it's the difference between nominal, ordinal, interval and ratio data. The machine learning methods we use here work best when the numbers express a ratio.)"
   ]
  },
  {
   "cell_type": "markdown",
   "metadata": {},
   "source": [
    "# About that data\n",
    "Maybe an SVM is not the best way to make a decision on the typical gender of a name. In our exploration we already concluded that there are quite a few names that are both typically male and female names. You can't draw a boundary line through those points!\n",
    "\n",
    "Now maybe, you say, there are many people that have such a name, but most of them are male. True, I say, but given the data we have, we don't know that. So we can't learn that to our computer…\n",
    "\n",
    "Maybe that's unfair, let's remove those shared names from our dataset. (And because I'm not in the mood for complex filtering for-loop, we'll use a set!)"
   ]
  },
  {
   "cell_type": "code",
   "execution_count": 210,
   "metadata": {},
   "outputs": [
    {
     "data": {
      "text/plain": [
       "(2443, 4501)"
      ]
     },
     "execution_count": 210,
     "metadata": {},
     "output_type": "execute_result"
    }
   ],
   "source": [
    "# \"A ^ B\" means intersection, i.e. keep everything that is in A and also in B at the same time\n",
    "names_in_common = set(male_names) ^ set(female_names)\n",
    "\n",
    "# \"A - B\" with sets means subset, so keep everything in A that is not in B\n",
    "only_male_names = list(set(male_names) - names_in_common)\n",
    "only_female_names = list(set(female_names) - names_in_common)\n",
    "\n",
    "# Split the names into two sets, one for training and one for testing\n",
    "train_male_names = male_names[0:-500] # Take all but the last 500 names\n",
    "test_male_names = male_names[-500:] # Take only the last 500 names\n",
    "\n",
    "train_female_names = female_names[0:-500]\n",
    "test_female_names = female_names[-500:]\n",
    "\n",
    "# To check whether we still have enough names left\n",
    "len(train_male_names), len(train_female_names)"
   ]
  },
  {
   "cell_type": "code",
   "execution_count": 211,
   "metadata": {},
   "outputs": [
    {
     "name": "stdout",
     "output_type": "stream",
     "text": [
      "[254] out of 500 male names was correct\n",
      "[447] out of 500 female names was correct\n"
     ]
    }
   ],
   "source": [
    "test_model(svm.SVC(), extract_features)"
   ]
  },
  {
   "cell_type": "markdown",
   "metadata": {},
   "source": [
    "# About the algorithm\n",
    "As I said, maybe an SVM with its single line isn't flexible enough. When we began we began by writing if-rules ourselves. Maybe we can do something like that, but let the computer decide on those rules by itself?\n",
    "\n",
    "Turns out, not a novel idea. That's a decision tree classifier! Let's try it."
   ]
  },
  {
   "cell_type": "code",
   "execution_count": 212,
   "metadata": {},
   "outputs": [
    {
     "name": "stdout",
     "output_type": "stream",
     "text": [
      "[278] out of 500 male names was correct\n",
      "[363] out of 500 female names was correct\n"
     ]
    }
   ],
   "source": [
    "from sklearn import tree\n",
    "test_model(tree.DecisionTreeClassifier(), extract_features)"
   ]
  },
  {
   "cell_type": "markdown",
   "metadata": {},
   "source": [
    "Not much better. How about using probability theory? Given each of the number, what's the chance the gender is male or female?"
   ]
  },
  {
   "cell_type": "code",
   "execution_count": 213,
   "metadata": {},
   "outputs": [
    {
     "name": "stdout",
     "output_type": "stream",
     "text": [
      "[206] out of 500 male names was correct\n",
      "[413] out of 500 female names was correct\n"
     ]
    }
   ],
   "source": [
    "from sklearn import naive_bayes\n",
    "test_model(naive_bayes.GaussianNB(), extract_features)"
   ]
  },
  {
   "cell_type": "markdown",
   "metadata": {},
   "source": [
    "# About the representation\n",
    "Another thing that might be difficult for the computer is that our numbers are in an odd range. What if we normalize them, so they are always somewhere between 0 and 1?"
   ]
  },
  {
   "cell_type": "code",
   "execution_count": 214,
   "metadata": {},
   "outputs": [
    {
     "name": "stdout",
     "output_type": "stream",
     "text": [
      "[254] out of 500 male names was correct\n",
      "[452] out of 500 female names was correct\n"
     ]
    }
   ],
   "source": [
    "# First, make a list of numbers that is as long as our numerical description of a name\n",
    "ranges = [0] * len(extract_features(''))\n",
    "\n",
    "# Then, determine the maximum each of the numbers can be\n",
    "for name in male_names + female_names:\n",
    "    for n, number in enumerate(extract_features(name)):\n",
    "        ranges[n] = max(number, ranges[n])\n",
    "\n",
    "# Now then, we can make a new extract_features function that uses the original one,\n",
    "# but also uses the maximum numbers we found to make all numbers fall between 0 and 1.\n",
    "def extract_features_normalized(name):\n",
    "    # Use our original name-to-numbers function\n",
    "    numbers = extract_features(name)\n",
    "    \n",
    "    # Normalize them, bringing them from 0-N into 0-1 range\n",
    "    for n, number in enumerate(numbers):\n",
    "        numbers[n] = number / ranges[n]\n",
    "    \n",
    "    return numbers\n",
    "\n",
    "# Let's test it!\n",
    "test_model(svm.SVC(), extract_features_normalized)"
   ]
  },
  {
   "cell_type": "markdown",
   "metadata": {},
   "source": [
    "# Credits\n",
    "This workshop is based on [chapter 6 \"Learning to Classify Text\" of the NLTK book](http://www.nltk.org/book/ch06.html). You should definitely take a look at it if you want to do more with this."
   ]
  },
  {
   "cell_type": "markdown",
   "metadata": {},
   "source": [
    "# Example feature extractors\n",
    "I've written these intentionally at the end. This is my attempt at an elaborate but quite well performing feature extractor for names."
   ]
  },
  {
   "cell_type": "code",
   "execution_count": 217,
   "metadata": {},
   "outputs": [
    {
     "name": "stdout",
     "output_type": "stream",
     "text": [
      "[345] out of 500 male names was correct\n",
      "[434] out of 500 female names was correct\n"
     ]
    }
   ],
   "source": [
    "def extract_features(name):\n",
    "    descriptor = []\n",
    "    \n",
    "    # Does a letter occur in the name\n",
    "    for letter in string.ascii_lowercase: # for 'a' to 'z'\n",
    "        descriptor.append(letter in name.lower())\n",
    "    \n",
    "    # How often does it occur, relatively\n",
    "    for letter in string.ascii_lowercase: # for 'a' to 'z'\n",
    "        descriptor.append(name.lower().count(letter) / len(name))\n",
    "    \n",
    "    # Is it the first letter\n",
    "    for letter in string.ascii_lowercase: # for 'a' to 'z'\n",
    "        descriptor.append(1 if name.lower()[0] == letter else 0)\n",
    "\n",
    "    # Is it the last letter\n",
    "    for letter in string.ascii_lowercase: # for 'a' to 'z'\n",
    "        descriptor.append(1 if name.lower()[-1] == letter else 0)\n",
    "\n",
    "    # Is it the second to last letter\n",
    "    for letter in string.ascii_lowercase: # for 'a' to 'z'\n",
    "        descriptor.append(1 if name.lower()[-2] == letter else 0)\n",
    "        \n",
    "    return descriptor\n",
    "\n",
    "test_model(svm.SVC(), extract_features)"
   ]
  }
 ],
 "metadata": {
  "kernelspec": {
   "display_name": "Python 3",
   "language": "python",
   "name": "python3"
  },
  "language_info": {
   "codemirror_mode": {
    "name": "ipython",
    "version": 3
   },
   "file_extension": ".py",
   "mimetype": "text/x-python",
   "name": "python",
   "nbconvert_exporter": "python",
   "pygments_lexer": "ipython3",
   "version": "3.7.7"
  }
 },
 "nbformat": 4,
 "nbformat_minor": 4
}
